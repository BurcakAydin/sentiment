{
 "cells": [
  {
   "cell_type": "code",
   "execution_count": 28,
   "id": "4e924140-261e-4205-8771-e778c9b3e0e2",
   "metadata": {},
   "outputs": [
    {
     "name": "stdout",
     "output_type": "stream",
     "text": [
      "                                                 title rating  \\\n",
      "0           Öncelikle oneamz ailesine teşekkür ederim!      5   \n",
      "1                NAZMİ BEYE teşekkürlerimi iletiyorum!      5   \n",
      "2    Oneamz ekibine ve özellikle Nazmi Çalışkan bey...      5   \n",
      "3    Her zamanki gibi aynı şevkle işini yapıyor. Ço...      5   \n",
      "4               Simge hanıma teşekkürlerimi iletiyorum      5   \n",
      "..                                                 ...    ...   \n",
      "121                      Sorunsuz İşlemler ve Satışlar      5   \n",
      "122                               Çok iyi ve Kaliteli!      5   \n",
      "123            Hem Yazılım Hem Hizmet Olarak 1 Numara!      5   \n",
      "124                     7/24 Desteği ile Piyasada TEK!      5   \n",
      "125                         Kesinlikle Tavsiye Ederim!      5   \n",
      "\n",
      "                 date                                               desc  \\\n",
      "0    Ağustos 28, 2023  Öncelikle oneamz ailesine teşekkür ederim çok ...   \n",
      "1    Ağustos 28, 2023  NAZMİ BEYE teşekkürlerimi iletiyorum soruma çö...   \n",
      "2    Ağustos 28, 2023  Merhaba bana dropshipping iş modelini önce Fat...   \n",
      "3    Ağustos 28, 2023  Merhaba, Account Manager’ımız Nazmi Bey ile bi...   \n",
      "4       Şubat 3, 2023  Simge hanıma teşekkürlerimi iletiyorum. Mağaza...   \n",
      "..                ...                                                ...   \n",
      "121     Ekim 19, 2021  Kullanmaya başladığımdan bu yana hızlı senkron...   \n",
      "122     Ekim 19, 2021  Gerek program olsun gerekte çalışanları olsun ...   \n",
      "123     Ekim 19, 2021  Oneamz bir numara her açıdan hem yazılım olara...   \n",
      "124     Ekim 19, 2021  Oneamz university ile 12 magza acilisi yapip s...   \n",
      "125     Ekim 19, 2021  Diğer programlara göre en iyi hizmeti sunan bi...   \n",
      "\n",
      "                       name  \n",
      "0                     ÖZLEM  \n",
      "1               tuba tasdan  \n",
      "2    Osman Hilmi Boyacıoğlu  \n",
      "3         Dilem Gözde Erkan  \n",
      "4                     Hakan  \n",
      "..                      ...  \n",
      "121               Ada kelci  \n",
      "122            Rıza Aykanat  \n",
      "123                 BATUHAN  \n",
      "124         Gencer karakaya  \n",
      "125        Kahraman DEMİRCİ  \n",
      "\n",
      "[126 rows x 5 columns]\n"
     ]
    }
   ],
   "source": [
    "import re\n",
    "import requests\n",
    "from bs4 import BeautifulSoup\n",
    "import pandas as pd\n",
    "\n",
    "base_url = \"https://oneamz.com/kullanici-yorumlari/\"\n",
    "\n",
    "def scrape_reviews(base_url):\n",
    "    title = []\n",
    "    rating = []\n",
    "    date = []\n",
    "    name = []\n",
    "    desc = []\n",
    "\n",
    "    review_pages = [f\"{base_url}?reviews-page={page_num}\" for page_num in range(1, 14)]\n",
    "\n",
    "    for page_link in review_pages:\n",
    "        response = requests.get(page_link)\n",
    "        if response.status_code == 200:\n",
    "            soup = BeautifulSoup(response.content, 'html.parser')\n",
    "            for review in soup.find_all(\"div\", class_=[\"glsr-review\"]):\n",
    "                title.append(review.h3.text)\n",
    "                rating.append(re.search(r'\\d+', review.find(\"span\", class_=[\"screen-reader-text\"]).text).group())\n",
    "                date.append(review.find(\"div\", class_=[\"glsr-review-date\"]).span.text)\n",
    "                desc.append(review.find(\"div\", class_=[\"glsr-review-content\"]).p.text)\n",
    "                name.append(review.find(\"div\", class_=[\"glsr-review-author\"]).span.text)\n",
    "        else:\n",
    "            print(f\"Error: Page could not be fetched - {page_link}\")\n",
    "\n",
    "    return pd.DataFrame({\"title\": title, \"rating\": rating, \"date\": date, \"desc\": desc, \"name\": name})\n",
    "\n",
    "# Run the function to scrape the reviews\n",
    "df = scrape_reviews(base_url)\n",
    "print(df)"
   ]
  },
  {
   "cell_type": "code",
   "execution_count": 29,
   "id": "eca85d1c-514d-4290-8c03-db041ff23bed",
   "metadata": {},
   "outputs": [],
   "source": [
    "# pip install googletrans==4.0.0-rc1\n"
   ]
  },
  {
   "cell_type": "code",
   "execution_count": 30,
   "id": "0564dfc8-20fd-4354-a3d4-8d356172e898",
   "metadata": {},
   "outputs": [
    {
     "name": "stdout",
     "output_type": "stream",
     "text": [
      "                                                 title rating  \\\n",
      "0           Öncelikle oneamz ailesine teşekkür ederim!      5   \n",
      "1                NAZMİ BEYE teşekkürlerimi iletiyorum!      5   \n",
      "2    Oneamz ekibine ve özellikle Nazmi Çalışkan bey...      5   \n",
      "3    Her zamanki gibi aynı şevkle işini yapıyor. Ço...      5   \n",
      "4               Simge hanıma teşekkürlerimi iletiyorum      5   \n",
      "..                                                 ...    ...   \n",
      "121                      Sorunsuz İşlemler ve Satışlar      5   \n",
      "122                               Çok iyi ve Kaliteli!      5   \n",
      "123            Hem Yazılım Hem Hizmet Olarak 1 Numara!      5   \n",
      "124                     7/24 Desteği ile Piyasada TEK!      5   \n",
      "125                         Kesinlikle Tavsiye Ederim!      5   \n",
      "\n",
      "                 date                                               desc  \\\n",
      "0    Ağustos 28, 2023  Öncelikle oneamz ailesine teşekkür ederim çok ...   \n",
      "1    Ağustos 28, 2023  NAZMİ BEYE teşekkürlerimi iletiyorum soruma çö...   \n",
      "2    Ağustos 28, 2023  Merhaba bana dropshipping iş modelini önce Fat...   \n",
      "3    Ağustos 28, 2023  Merhaba, Account Manager’ımız Nazmi Bey ile bi...   \n",
      "4       Şubat 3, 2023  Simge hanıma teşekkürlerimi iletiyorum. Mağaza...   \n",
      "..                ...                                                ...   \n",
      "121     Ekim 19, 2021  Kullanmaya başladığımdan bu yana hızlı senkron...   \n",
      "122     Ekim 19, 2021  Gerek program olsun gerekte çalışanları olsun ...   \n",
      "123     Ekim 19, 2021  Oneamz bir numara her açıdan hem yazılım olara...   \n",
      "124     Ekim 19, 2021  Oneamz university ile 12 magza acilisi yapip s...   \n",
      "125     Ekim 19, 2021  Diğer programlara göre en iyi hizmeti sunan bi...   \n",
      "\n",
      "                       name                                      english_texts  \n",
      "0                     ÖZLEM  First of all, thank you to the Oneamz family, ...  \n",
      "1               tuba tasdan  I thank Nazmi Bey, I am very pleased to approa...  \n",
      "2    Osman Hilmi Boyacıoğlu  Hello to me, I would like to thank the Oneamz ...  \n",
      "3         Dilem Gözde Erkan  Hello, Zoom Meeting is finished with our Accou...  \n",
      "4                     Hakan  I thank you to the Simge lady.At the opening o...  \n",
      "..                      ...                                                ...  \n",
      "121               Ada kelci  Since I started using it, I would like to than...  \n",
      "122            Rıza Aykanat  Whether it is a program or employees, very goo...  \n",
      "123                 BATUHAN  Oneamz number one in every aspect as a softwar...  \n",
      "124         Gencer karakaya  You can make 12 magza emergency with Oneamz Un...  \n",
      "125        Kahraman DEMİRCİ  As a software that offers the best service com...  \n",
      "\n",
      "[126 rows x 6 columns]\n"
     ]
    }
   ],
   "source": [
    "import pandas as pd\n",
    "from googletrans import Translator\n",
    "\n",
    "\n",
    "# Initialize the translator\n",
    "translator = Translator()\n",
    "\n",
    "# Function to translate text\n",
    "def translate_to_english(text):\n",
    "    try:\n",
    "        return translator.translate(text, src='tr', dest='en').text\n",
    "    except Exception as e:\n",
    "        print(f\"Error: {e}\")\n",
    "        return text\n",
    "\n",
    "# Translate the Turkish column to English\n",
    "df['english_texts'] = df['desc'].apply(translate_to_english)\n",
    "\n",
    "print(df)\n"
   ]
  },
  {
   "cell_type": "code",
   "execution_count": 31,
   "id": "59704775-be52-4130-9f48-01ba17315660",
   "metadata": {},
   "outputs": [],
   "source": [
    "from vaderSentiment.vaderSentiment import SentimentIntensityAnalyzer\n",
    "\n",
    "# Initialize the VADER sentiment intensity analyzer\n",
    "analyzer = SentimentIntensityAnalyzer()\n",
    "\n",
    "# Function to get sentiment using VADER\n",
    "def get_vader_sentiment(text):\n",
    "    score = analyzer.polarity_scores(text)\n",
    "    if -0.05 < score['compound'] < 0.05:  # Adjust these values as needed\n",
    "        return 'Neutral'\n",
    "    elif score['compound'] > 0:\n",
    "        return 'Positive'\n",
    "    else:\n",
    "        return 'Negative'\n",
    "\n",
    "# Apply the sentiment analysis function to the 'english_texts' column\n",
    "df['sentiment'] = df['english_texts'].apply(get_vader_sentiment)"
   ]
  },
  {
   "cell_type": "code",
   "execution_count": 32,
   "id": "0adbdce4-9fc1-4707-aecd-bdd97d590971",
   "metadata": {},
   "outputs": [
    {
     "name": "stdout",
     "output_type": "stream",
     "text": [
      "                                         english_texts sentiment\n",
      "0    First of all, thank you to the Oneamz family, ...  Positive\n",
      "1    I thank Nazmi Bey, I am very pleased to approa...  Positive\n",
      "2    Hello to me, I would like to thank the Oneamz ...  Positive\n",
      "3    Hello, Zoom Meeting is finished with our Accou...  Positive\n",
      "4    I thank you to the Simge lady.At the opening o...  Positive\n",
      "..                                                 ...       ...\n",
      "121  Since I started using it, I would like to than...  Positive\n",
      "122  Whether it is a program or employees, very goo...  Positive\n",
      "123  Oneamz number one in every aspect as a softwar...  Positive\n",
      "124  You can make 12 magza emergency with Oneamz Un...  Negative\n",
      "125  As a software that offers the best service com...  Positive\n",
      "\n",
      "[126 rows x 2 columns]\n"
     ]
    }
   ],
   "source": [
    "# Select desired columns\n",
    "selected_columns = ['english_texts', 'sentiment']\n",
    "df2 = df[selected_columns]\n",
    "\n",
    "print(df2)"
   ]
  },
  {
   "cell_type": "code",
   "execution_count": 33,
   "id": "60dd2e69-416f-4358-ba22-30ee0b2e17f4",
   "metadata": {},
   "outputs": [
    {
     "name": "stdout",
     "output_type": "stream",
     "text": [
      "Positive    116\n",
      "Neutral       7\n",
      "Negative      3\n",
      "Name: sentiment, dtype: int64\n"
     ]
    }
   ],
   "source": [
    "# Assuming you've already applied the sentiment analysis to your DataFrame\n",
    "sentiment_counts = df2['sentiment'].value_counts()\n",
    "\n",
    "# Ensure all sentiments are in the index\n",
    "for sentiment in ['Positive', 'Neutral', 'Negative']:\n",
    "    if sentiment not in sentiment_counts.index:\n",
    "        sentiment_counts[sentiment] = 0\n",
    "\n",
    "print(sentiment_counts)"
   ]
  },
  {
   "cell_type": "code",
   "execution_count": 34,
   "id": "d5aa2615-32d7-45a5-b321-0757c626b8f9",
   "metadata": {},
   "outputs": [
    {
     "data": {
      "image/png": "[encoded data removed]",
      "text/plain": [
       "<Figure size 640x480 with 1 Axes>"
      ]
     },
     "metadata": {},
     "output_type": "display_data"
    }
   ],
   "source": [
    "import matplotlib.pyplot as plt\n",
    "# Apply the sentiment analysis function to the 'texts' column\n",
    "df['sentiment'] = df2['english_texts'].apply(get_sentiment)\n",
    "\n",
    "# Count occurrences of each sentiment\n",
    "sentiment_counts = df2['sentiment'].value_counts()\n",
    "\n",
    "# Plot the results\n",
    "sentiment_counts.plot(kind='bar', color=['green', 'blue','red'], title='Sentiment Analysis', alpha=0.75)\n",
    "plt.xlabel('Sentiment')\n",
    "plt.ylabel('Count')\n",
    "plt.show()"
   ]
  },
  {
   "cell_type": "code",
   "execution_count": 35,
   "id": "d72129eb-fe11-40fa-b106-5b23ec0cef47",
   "metadata": {},
   "outputs": [],
   "source": [
    "df2.to_excel(\"english_text.xlsx\",index=False)"
   ]
  },
  {
   "cell_type": "code",
   "execution_count": 36,
   "id": "df4c87e6-34d1-4115-a0a2-d19759cfd1c6",
   "metadata": {},
   "outputs": [
    {
     "name": "stdout",
     "output_type": "stream",
     "text": [
      "Overwriting Sentiment_analysis_app-Vader.py\n"
     ]
    }
   ],
   "source": [
    "%%writefile Sentiment_analysis_app-Vader.py\n",
    "\n",
    "import streamlit as st\n",
    "from vaderSentiment.vaderSentiment import SentimentIntensityAnalyzer\n",
    "import pandas as pd\n",
    "\n",
    "# Initialize the VADER sentiment intensity analyzer\n",
    "analyzer = SentimentIntensityAnalyzer()\n",
    "\n",
    "# Load the data from the Excel file\n",
    "english_texts_df = pd.read_excel('english_texts.xlsx')\n",
    "\n",
    "st.markdown(\n",
    "    \"\"\"\n",
    "    <style>\n",
    "        .title {\n",
    "            font-size: 72px;\n",
    "            font-weight: bold;\n",
    "            color: yellow;\n",
    "        }\n",
    "        .subtitle {\n",
    "            font-size: 72px;\n",
    "            font-weight: bold;\n",
    "            color: black;\n",
    "        }\n",
    "        .stButton > button {\n",
    "                        color: black;\n",
    "                        border: 3px solid yellow;\n",
    "                        font-size: 18px;\n",
    "                        padding: 10px 20px;\n",
    "                        width: auto;\n",
    "                        height: auto;\n",
    "                    }\n",
    "\n",
    "        .big-title {\n",
    "            font-size: 28px;\n",
    "        }\n",
    "    </style>\n",
    "    \"\"\", unsafe_allow_html=True\n",
    ")\n",
    "\n",
    "st.markdown(\n",
    "    \"\"\"\n",
    "    <span class=\"title\">One</span><span class=\"subtitle\">AMZ</span>\n",
    "    \"\"\", unsafe_allow_html=True\n",
    ")\n",
    "\n",
    "st.markdown('<p class=\"big-title\">Duygu Analizi</p>', unsafe_allow_html=True)\n",
    "\n",
    "# Dropdown to choose text\n",
    "selected_text = st.selectbox(\"**OneAMZ yorumlarından bir tane seçin**\", english_texts_df['english_texts'].tolist())\n",
    "user_input = st.text_area(\"**Lütfen bir tane yorum yazın**\", selected_text)\n",
    "\n",
    "if st.button('ANALİZ'):\n",
    "    score = analyzer.polarity_scores(user_input)\n",
    "    if -0.05 < score['compound'] < 0.05:\n",
    "        result = 'Neutral'\n",
    "    elif score['compound'] > 0:\n",
    "        result = 'Positive'\n",
    "    else:\n",
    "        result = 'Negative'\n",
    "    st.write(f\"The sentiment is: **{result}**\")\n"
   ]
  },
  {
   "cell_type": "code",
   "execution_count": 37,
   "id": "f3fa69eb-9b0a-4eed-b43f-802a04d0955b",
   "metadata": {},
   "outputs": [
    {
     "name": "stdout",
     "output_type": "stream",
     "text": [
      "^C\n"
     ]
    }
   ],
   "source": [
    "!streamlit run Sentiment_analysis_app-Vader.py"
   ]
  },
  {
   "cell_type": "code",
   "execution_count": null,
   "id": "b6e1868b-0898-4447-86cb-a1a6c3cdcab1",
   "metadata": {},
   "outputs": [],
   "source": []
  }
 ],
 "metadata": {
  "kernelspec": {
   "display_name": "Python 3 (ipykernel)",
   "language": "python",
   "name": "python3"
  },
  "language_info": {
   "codemirror_mode": {
    "name": "ipython",
    "version": 3
   },
   "file_extension": ".py",
   "mimetype": "text/x-python",
   "name": "python",
   "nbconvert_exporter": "python",
   "pygments_lexer": "ipython3",
   "version": "3.10.9"
  }
 },
 "nbformat": 4,
 "nbformat_minor": 5
}
